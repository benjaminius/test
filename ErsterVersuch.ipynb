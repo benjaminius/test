{
  "nbformat": 4,
  "nbformat_minor": 0,
  "metadata": {
    "colab": {
      "provenance": [],
      "authorship_tag": "ABX9TyPmobkJ5kZ2UzzvpebgvsvW",
      "include_colab_link": true
    },
    "kernelspec": {
      "name": "python3",
      "display_name": "Python 3"
    },
    "language_info": {
      "name": "python"
    }
  },
  "cells": [
    {
      "cell_type": "markdown",
      "metadata": {
        "id": "view-in-github",
        "colab_type": "text"
      },
      "source": [
        "<a href=\"https://colab.research.google.com/github/benjaminius/test/blob/main/ErsterVersuch.ipynb\" target=\"_parent\"><img src=\"https://colab.research.google.com/assets/colab-badge.svg\" alt=\"Open In Colab\"/></a>"
      ]
    },
    {
      "cell_type": "markdown",
      "source": [
        "Beschreibung"
      ],
      "metadata": {
        "id": "v7HtndmgExoK"
      }
    },
    {
      "cell_type": "code",
      "execution_count": 5,
      "metadata": {
        "colab": {
          "base_uri": "https://localhost:8080/"
        },
        "id": "-494Y8a7DgSK",
        "outputId": "a72e34c6-b64c-45d4-a09d-d5da1db01de7"
      },
      "outputs": [
        {
          "output_type": "stream",
          "name": "stdout",
          "text": [
            "Super Duper\n",
            "5\n"
          ]
        }
      ],
      "source": [
        "print (\"Super Duper\")\n",
        "\n",
        "a = 5\n",
        "\n",
        "print (a)\n",
        "\n",
        "#*Test\n"
      ]
    },
    {
      "cell_type": "code",
      "source": [],
      "metadata": {
        "id": "51OROH3VINfM"
      },
      "execution_count": null,
      "outputs": []
    }
  ]
}